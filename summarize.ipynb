{
 "cells": [
  {
   "cell_type": "code",
   "execution_count": 1,
   "metadata": {},
   "outputs": [],
   "source": [
    "import os\n",
    "import json\n",
    "from langchain.document_loaders import PyPDFLoader\n",
    "\n",
    "def get_pdf_files(dir):\n",
    "    pdf_files = []\n",
    "    for root, dirs, files in os.walk(dir):\n",
    "        for file in files:\n",
    "            if file.lower().endswith('.pdf'):\n",
    "                pdf_files.append(os.path.join(root, file))\n",
    "    return pdf_files\n",
    "\n",
    "\n",
    "def load_papers(directory):\n",
    "    pdf_file_paths = get_pdf_files(directory)\n",
    "    pdf_docs = []\n",
    "\n",
    "    for pdf_file in pdf_file_paths:\n",
    "        document_list = load_pdf(pdf_file)\n",
    "        pdf_docs.append(document_list)\n",
    "        \n",
    "    return pdf_docs\n",
    "\n",
    "def load_pdf(filename):\n",
    "    loader = PyPDFLoader(filename)\n",
    "    document_list = loader.load_and_split()\n",
    "    return document_list\n",
    "\n",
    "def transform_papers(papers):\n",
    "    docs = []\n",
    "    for paper in papers:\n",
    "        doc = {}\n",
    "        doc[\"source\"] = paper[0].metadata[\"source\"]\n",
    "        doc[\"content\"] = paper\n",
    "        docs.append(doc)\n",
    "    return docs\n",
    "\n",
    "def write_dict_to_file(dictionary, file_path):\n",
    "    with open(file_path, 'w') as file:\n",
    "        json.dump(dictionary, file)"
   ]
  },
  {
   "cell_type": "code",
   "execution_count": 2,
   "metadata": {},
   "outputs": [],
   "source": [
    "from langchain.llms import Ollama\n",
    "from langchain.chains.summarize import load_summarize_chain\n",
    "\n",
    "def ollama(model=\"llama2\"):\n",
    "    return Ollama(model=model)\n",
    "\n",
    "llm = ollama(model=\"mistral\")\n",
    "chain = load_summarize_chain(llm, chain_type=\"stuff\")\n",
    "\n",
    "def summarize(paper):\n",
    "    print(\"# Starting summary for \" + paper[\"source\"])\n",
    "    content = paper[\"content\"]\n",
    "    summary = chain.run(content)\n",
    "    paper[\"summary\"] = summary\n",
    "    del paper[\"content\"]\n",
    "    print(\"# Finished summary for \" + paper[\"source\"])\n",
    "    return paper"
   ]
  },
  {
   "cell_type": "code",
   "execution_count": 3,
   "metadata": {},
   "outputs": [
    {
     "name": "stderr",
     "output_type": "stream",
     "text": [
      "Multiple definitions in dictionary at byte 0x15fe1 for key /MediaBox\n",
      "Multiple definitions in dictionary at byte 0x161fd for key /MediaBox\n",
      "Multiple definitions in dictionary at byte 0x16407 for key /MediaBox\n",
      "Multiple definitions in dictionary at byte 0x165d9 for key /MediaBox\n",
      "Multiple definitions in dictionary at byte 0x16873 for key /MediaBox\n",
      "Multiple definitions in dictionary at byte 0x16a6d for key /MediaBox\n"
     ]
    },
    {
     "name": "stdout",
     "output_type": "stream",
     "text": [
      "# Starting summary for ./papers/Large language models in health care Development, applications, and challenges.pdf\n",
      "# Finished summary for ./papers/Large language models in health care Development, applications, and challenges.pdf\n",
      "# Starting summary for ./papers/Leveraging Generative AI and Large Language Models A Comprehensive Roadmap for Healthcare Integration.pdf\n",
      "# Finished summary for ./papers/Leveraging Generative AI and Large Language Models A Comprehensive Roadmap for Healthcare Integration.pdf\n",
      "# Starting summary for ./papers/CAN LARGE LANGUAGE MODELS REASON ABOUT MEDICAL QUESTIONS.pdf\n",
      "# Finished summary for ./papers/CAN LARGE LANGUAGE MODELS REASON ABOUT MEDICAL QUESTIONS.pdf\n",
      "# Starting summary for ./papers/The practical implementation of artificial intelligence technologies in medicine.pdf\n",
      "# Finished summary for ./papers/The practical implementation of artificial intelligence technologies in medicine.pdf\n",
      "# Starting summary for ./papers/Domain-specific language models and lexicons for tagging.pdf\n",
      "# Finished summary for ./papers/Domain-specific language models and lexicons for tagging.pdf\n",
      "# Starting summary for ./papers/Translating Cancer Genomics Precision Medicine.pdf\n",
      "# Finished summary for ./papers/Translating Cancer Genomics Precision Medicine.pdf\n",
      "# Starting summary for ./papers/Large language models in medicine the potentials and pitfalls.pdf\n",
      "# Finished summary for ./papers/Large language models in medicine the potentials and pitfalls.pdf\n",
      "# Starting summary for ./papers/Artificial intelligence in medicine Review.pdf\n",
      "# Finished summary for ./papers/Artificial intelligence in medicine Review.pdf\n",
      "# Starting summary for ./papers/AI in Oncology Precision Medicine.pdf\n",
      "# Finished summary for ./papers/AI in Oncology Precision Medicine.pdf\n",
      "# Starting summary for ./papers/Large language models encode clinical knowledge.pdf\n",
      "# Finished summary for ./papers/Large language models encode clinical knowledge.pdf\n",
      "# Starting summary for ./papers/A Review on Large Language Models Architectures, Applications, Taxonomies, Open Issues and Challenges.pdf\n",
      "# Finished summary for ./papers/A Review on Large Language Models Architectures, Applications, Taxonomies, Open Issues and Challenges.pdf\n",
      "# Starting summary for ./papers/Summary of ChatGPT-Related research and perspective towards the future of large language models.pdf\n",
      "# Finished summary for ./papers/Summary of ChatGPT-Related research and perspective towards the future of large language models.pdf\n",
      "# Starting summary for ./papers/Embracing Large Language Models for Medical Applications Opportunities and Challenges.pdf\n",
      "# Finished summary for ./papers/Embracing Large Language Models for Medical Applications Opportunities and Challenges.pdf\n",
      "# Starting summary for ./papers/Machine Learning and Deep Learning Applications-A Vision.pdf\n",
      "# Finished summary for ./papers/Machine Learning and Deep Learning Applications-A Vision.pdf\n",
      "# Starting summary for ./papers/AI applications to medical images From machine learning to deep learning.pdf\n",
      "# Finished summary for ./papers/AI applications to medical images From machine learning to deep learning.pdf\n",
      "# Starting summary for ./papers/Black Box Warning Large Language Models and the Future of Infectious Diseases Consultation.pdf\n",
      "# Finished summary for ./papers/Black Box Warning Large Language Models and the Future of Infectious Diseases Consultation.pdf\n",
      "# Starting summary for ./papers/Benefits, Limits, and Risks of GPT-4 as an AI Chatbot for Medicine.pdf\n",
      "# Finished summary for ./papers/Benefits, Limits, and Risks of GPT-4 as an AI Chatbot for Medicine.pdf\n",
      "# Starting summary for ./papers/AI in Medicine Today and Tomorrow.pdf\n",
      "# Finished summary for ./papers/AI in Medicine Today and Tomorrow.pdf\n",
      "# Starting summary for ./papers/Large Language Models are Few-Shot Clinical Information Extractors.pdf\n",
      "# Finished summary for ./papers/Large Language Models are Few-Shot Clinical Information Extractors.pdf\n",
      "# Starting summary for ./papers/Artificial intelligence in medicine.pdf\n",
      "# Finished summary for ./papers/Artificial intelligence in medicine.pdf\n",
      "# Starting summary for ./papers/A clinician’s guide to large language models.pdf\n",
      "# Finished summary for ./papers/A clinician’s guide to large language models.pdf\n",
      "# Starting summary for ./papers/Causability and explainability of artificial intelligence in medicine.pdf\n"
     ]
    }
   ],
   "source": [
    "directory = './papers'\n",
    "summary_path = './summaries.json'\n",
    "\n",
    "pdf_docs = load_papers(directory)\n",
    "pdf_docs = transform_papers(pdf_docs)\n",
    "\n",
    "summaries = [summarize(paper) for paper in pdf_docs]\n",
    "\n",
    "write_dict_to_file(summaries, summary_path)"
   ]
  }
 ],
 "metadata": {
  "kernelspec": {
   "display_name": "ai",
   "language": "python",
   "name": "python3"
  },
  "language_info": {
   "codemirror_mode": {
    "name": "ipython",
    "version": 3
   },
   "file_extension": ".py",
   "mimetype": "text/x-python",
   "name": "python",
   "nbconvert_exporter": "python",
   "pygments_lexer": "ipython3",
   "version": "3.12.0"
  }
 },
 "nbformat": 4,
 "nbformat_minor": 2
}
